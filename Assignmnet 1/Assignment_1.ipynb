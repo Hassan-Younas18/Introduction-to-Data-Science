{
  "nbformat": 4,
  "nbformat_minor": 0,
  "metadata": {
    "colab": {
      "provenance": []
    },
    "kernelspec": {
      "name": "python3",
      "display_name": "Python 3"
    },
    "language_info": {
      "name": "python"
    }
  },
  "cells": [
    {
      "cell_type": "markdown",
      "source": [
        "# **Question 1**"
      ],
      "metadata": {
        "id": "4XaweCzVTUCF"
      }
    },
    {
      "cell_type": "code",
      "source": [
        "\n",
        "s = input(\"Enter your String: \")\n",
        "s1=list(s)\n",
        "\n",
        "s2 = dict()\n",
        "\n",
        "#get 1 character from string and stored it in the s\n",
        "for i in s :\n",
        "\n",
        "  #if a character comes second time we will store it with with the value 1+1\n",
        "  if i in s2:\n",
        "     #increasing the particle value of c with 1\n",
        "      s2[i]=s2[i]+1\n",
        "  else:\n",
        "    #if a new character comes we will store it with the value 1\n",
        "     s2[i] = 1\n",
        "\n",
        "num=[]\n",
        "num=list(s2.values())\n",
        "\n",
        "even=0\n",
        "odd=0\n",
        "for i in range(len(num)):\n",
        " if(num[i]%2==0):\n",
        "     even+=1\n",
        " else:\n",
        "     odd+=1\n",
        "\n",
        "if((odd>=1) and (even>=1)):\n",
        "  print(\"2 \")\n",
        "elif((odd==0) and (even>=1)):\n",
        "  print(\"1 \")\n",
        "elif((odd>=0) and (even==0)):\n",
        "  print(\"0 \")"
      ],
      "metadata": {
        "colab": {
          "base_uri": "https://localhost:8080/"
        },
        "id": "GfRfR0lITXeB",
        "outputId": "80306e21-f59b-40cc-ef11-8d801e645bd7"
      },
      "execution_count": 4,
      "outputs": [
        {
          "output_type": "stream",
          "name": "stdout",
          "text": [
            "Enter your String: wdcsdc\n",
            "2 \n"
          ]
        }
      ]
    },
    {
      "cell_type": "markdown",
      "source": [
        "# **Question 2**"
      ],
      "metadata": {
        "id": "9Kj6jCMvUnDR"
      }
    },
    {
      "cell_type": "code",
      "source": [
        "a=int(input(\"enter the number of your card \"))\n",
        "\n",
        "#to convert your int into the list\n",
        "l1=[int(x) for a,x in enumerate(str(a))]\n",
        "\n",
        "total=0\n",
        "total=int(total)\n",
        "\n",
        "remainder=0\n",
        "remainder=int(remainder)\n",
        "\n",
        "for i in range (len(l1)) :\n",
        " if(i%2==1):\n",
        "  l1[i]*=2\n",
        "  if(l1[i]>10):\n",
        "    rem=l1[i]%10\n",
        "    total=rem+total+1\n",
        "  else:\n",
        "   total+=l1[i]\n",
        " else:\n",
        "  l1[i]=l1[i]\n",
        "  total+=l1[i]\n",
        "\n",
        "#conditions for validation\n",
        "if(total%10==0):\n",
        " print(\"Valid\")\n",
        "else:\n",
        " print(\"Invalid 2\")"
      ],
      "metadata": {
        "colab": {
          "base_uri": "https://localhost:8080/"
        },
        "id": "VRYVW_j8T9ZO",
        "outputId": "8dc69bb4-662c-496f-9178-d0a57d66d8a6"
      },
      "execution_count": 5,
      "outputs": [
        {
          "output_type": "stream",
          "name": "stdout",
          "text": [
            "enter the number of your card 342343\n",
            "Invalid 2\n"
          ]
        }
      ]
    },
    {
      "cell_type": "markdown",
      "source": [],
      "metadata": {
        "id": "eXp05I8CU9VO"
      }
    },
    {
      "cell_type": "markdown",
      "source": [
        "# **Question 3**"
      ],
      "metadata": {
        "id": "DCaXu9_WVC1c"
      }
    },
    {
      "cell_type": "code",
      "source": [
        "def isprime(number):\n",
        "\n",
        "  a=True\n",
        "  for i in range(2,number):\n",
        "    if(number%i==0):\n",
        "      a=False\n",
        "      break\n",
        "  return a\n",
        "\n",
        "pn=int(input(\"enter your number \" ))\n",
        "i=1\n",
        "q=0\n",
        "\n",
        "if(isprime(pn)==True):\n",
        " print(\"would you believe it; it is a prime number\",pn)\n",
        "else:\n",
        "  for i in range(pn):\n",
        "    q=pn+i\n",
        "    if(isprime(pn+i)==True):\n",
        "      print(\"missed it by that much (\",q-pn,\")!\")\n",
        "      break\n",
        "    q=pn-i\n",
        "    if(isprime(pn-i)==True):\n",
        "      print(\"missed it by that much (\", pn-q,\")\")\n",
        "      break"
      ],
      "metadata": {
        "colab": {
          "base_uri": "https://localhost:8080/"
        },
        "id": "_m0hIp_eVE-x",
        "outputId": "078c7de3-3592-4370-c67c-a46634b68e8b"
      },
      "execution_count": 7,
      "outputs": [
        {
          "output_type": "stream",
          "name": "stdout",
          "text": [
            "enter your number 23\n",
            "would you believe it is a prime number 23\n"
          ]
        }
      ]
    },
    {
      "cell_type": "markdown",
      "source": [
        "# **Question 4**"
      ],
      "metadata": {
        "id": "sNm4rFrSVVzT"
      }
    },
    {
      "cell_type": "code",
      "source": [
        "# Automatic Spelling Correction Implementation\n",
        "\n",
        "def is_one_letter_omitted(word, dict_word):\n",
        "    if len(word) + 1 != len(dict_word):\n",
        "        return False\n",
        "    for i in range(len(dict_word)):\n",
        "        if word == dict_word[:i] + dict_word[i+1:]:\n",
        "            return True\n",
        "    return False\n",
        "\n",
        "def is_one_letter_added(word, dict_word):\n",
        "    return is_one_letter_omitted(dict_word, word)\n",
        "\n",
        "def is_one_letter_different(word, dict_word):\n",
        "    if len(word) != len(dict_word):\n",
        "        return False\n",
        "    diff_count = sum(1 for w, d in zip(word, dict_word) if w != d)\n",
        "    return diff_count == 1\n",
        "\n",
        "def is_two_letters_transposed(word, dict_word):\n",
        "    if len(word) != len(dict_word):\n",
        "        return False\n",
        "    for i in range(len(word) - 1):\n",
        "        if (word[i] != dict_word[i] or word[i+1] != dict_word[i+1]) and \\\n",
        "           word[i] == dict_word[i+1] and word[i+1] == dict_word[i] and \\\n",
        "           word[i+2:] == dict_word[i+2:] and word[:i] == dict_word[:i]:\n",
        "            return True\n",
        "    return False\n",
        "\n",
        "# Read dictionary\n",
        "words_count = int(input(\"no. of words to be entered: \"))\n",
        "dictionary = [input().strip() for _ in range(words_count)]\n",
        "\n",
        "# Words to check\n",
        "check_count = int(input(\"no. of words to be checked: \"))\n",
        "words_to_check = [input().strip() for _ in range(check_count)]\n",
        "\n",
        "for word in words_to_check:\n",
        "    print(word)\n",
        "    if word in dictionary:\n",
        "        print(\"CORRECT\")\n",
        "    else:\n",
        "        found = False\n",
        "        for dict_word in dictionary:\n",
        "            if is_one_letter_omitted(word, dict_word):\n",
        "                print(f\"ONE LETTER OMITTED FROM {dict_word}\")\n",
        "                found = True\n",
        "            if is_one_letter_added(word, dict_word):\n",
        "                print(f\"ONE LETTER ADDED TO {dict_word}\")\n",
        "                found = True\n",
        "            if is_one_letter_different(word, dict_word):\n",
        "                print(f\"ONE LETTER DIFFERENT FROM {dict_word}\")\n",
        "                found = True\n",
        "            if is_two_letters_transposed(word, dict_word):\n",
        "                print(f\"TWO LETTERS TRANSPOSED IN {dict_word}\")\n",
        "                found = True\n",
        "        if not found:\n",
        "            print(\"UNKNOWN\")\n",
        "    print()\n"
      ],
      "metadata": {
        "colab": {
          "base_uri": "https://localhost:8080/"
        },
        "id": "qHg_93H7VLkC",
        "outputId": "d17ffc78-3835-4a70-b9c1-047fcb869e1f"
      },
      "execution_count": 13,
      "outputs": [
        {
          "output_type": "stream",
          "name": "stdout",
          "text": [
            "no. of words to be entered: 4\n",
            "Ali\n",
            "hassan\n",
            "ahsan\n",
            "rsaln\n",
            "no. of words to be checked: 1\n",
            "alliyan\n",
            "alliyan\n",
            "UNKNOWN\n",
            "\n"
          ]
        }
      ]
    },
    {
      "cell_type": "code",
      "source": [
        "aa"
      ],
      "metadata": {
        "id": "veYWN-lKVenO"
      },
      "execution_count": null,
      "outputs": []
    }
  ]
}